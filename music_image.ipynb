{
 "cells": [
  {
   "cell_type": "markdown",
   "id": "0d6b4283",
   "metadata": {},
   "source": [
    "# Проект предсказания жанра альбома по его обложке"
   ]
  },
  {
   "cell_type": "markdown",
   "id": "52d1c54a",
   "metadata": {},
   "source": [
    "## Вступление"
   ]
  },
  {
   "cell_type": "markdown",
   "id": "e7cf9283",
   "metadata": {},
   "source": [
    "### Описание проекта:"
   ]
  },
  {
   "cell_type": "markdown",
   "id": "1b3e0923",
   "metadata": {},
   "source": [
    "В современном мире музыка играет неотъемлемую роль в жизни большинства людей. Музыкальные альбомы, помимо своего аудио содержания, часто запоминаются благодаря своим уникальным и захватывающим обложкам. Обложка альбома не только привлекает внимание к продукту, но и может нести в себе информацию о музыкальном жанре и общем настроении произведений. В данном проекте я хотел бы исследовать, насколько возможно предсказать музыкальный жанр альбома, исходя исключительно из его визуального оформления."
   ]
  },
  {
   "cell_type": "markdown",
   "id": "444726df",
   "metadata": {},
   "source": [
    "### Описание данных:"
   ]
  },
  {
   "cell_type": "markdown",
   "id": "57401b0f",
   "metadata": {},
   "source": [
    "Всего имеется 10 папок с картинками альбомов разых жанров: \n",
    "* anime\n",
    "* black metal\n",
    "* classical\n",
    "* country\n",
    "* disco\n",
    "* edm\n",
    "* jazz\n",
    "* pop\n",
    "* rap\n",
    "* reggae"
   ]
  },
  {
   "cell_type": "markdown",
   "id": "85e773ff",
   "metadata": {},
   "source": [
    "### В чем состоит задача?"
   ]
  },
  {
   "cell_type": "markdown",
   "id": "e48737e4",
   "metadata": {},
   "source": [
    "Основной задачей проекта является разработка и тренировка модели машинного обучения, которая сможет определять жанр музыкального альбома на основе изображения его обложки. Для реализации проекта предполагается использование современных инструментов и библиотек машинного обучения и компьютерного зрения, таких как Python, Scikit-Learn, FAISS, PyTorch, torchvision и fastai."
   ]
  },
  {
   "cell_type": "markdown",
   "id": "a1a4a0b9",
   "metadata": {},
   "source": [
    "## Предобработка и анализ данных "
   ]
  },
  {
   "cell_type": "markdown",
   "id": "d29e0732",
   "metadata": {},
   "source": [
    "### Загрузка библиотек"
   ]
  },
  {
   "cell_type": "code",
   "execution_count": 1,
   "id": "4fe380e2",
   "metadata": {},
   "outputs": [
    {
     "name": "stdout",
     "output_type": "stream",
     "text": [
      "Requirement already satisfied: fastai in c:\\users\\joktun\\anaconda3\\lib\\site-packages (2.7.14)\n",
      "Requirement already satisfied: pip in c:\\users\\joktun\\anaconda3\\lib\\site-packages (from fastai) (23.2.1)\n",
      "Requirement already satisfied: packaging in c:\\users\\joktun\\anaconda3\\lib\\site-packages (from fastai) (23.1)\n",
      "Requirement already satisfied: fastdownload<2,>=0.0.5 in c:\\users\\joktun\\anaconda3\\lib\\site-packages (from fastai) (0.0.7)\n",
      "Requirement already satisfied: fastcore<1.6,>=1.5.29 in c:\\users\\joktun\\anaconda3\\lib\\site-packages (from fastai) (1.5.32)\n",
      "Requirement already satisfied: torchvision>=0.11 in c:\\users\\joktun\\appdata\\roaming\\python\\python311\\site-packages (from fastai) (0.17.2)\n",
      "Requirement already satisfied: matplotlib in c:\\users\\joktun\\anaconda3\\lib\\site-packages (from fastai) (3.7.2)\n",
      "Requirement already satisfied: pandas in c:\\users\\joktun\\anaconda3\\lib\\site-packages (from fastai) (2.0.3)\n",
      "Requirement already satisfied: requests in c:\\users\\joktun\\anaconda3\\lib\\site-packages (from fastai) (2.31.0)\n",
      "Requirement already satisfied: pyyaml in c:\\users\\joktun\\anaconda3\\lib\\site-packages (from fastai) (6.0)\n",
      "Requirement already satisfied: fastprogress>=0.2.4 in c:\\users\\joktun\\anaconda3\\lib\\site-packages (from fastai) (1.0.3)\n",
      "Requirement already satisfied: pillow>=9.0.0 in c:\\users\\joktun\\anaconda3\\lib\\site-packages (from fastai) (9.4.0)\n",
      "Requirement already satisfied: scikit-learn in c:\\users\\joktun\\anaconda3\\lib\\site-packages (from fastai) (1.3.0)\n",
      "Requirement already satisfied: scipy in c:\\users\\joktun\\anaconda3\\lib\\site-packages (from fastai) (1.11.1)\n",
      "Requirement already satisfied: spacy<4 in c:\\users\\joktun\\anaconda3\\lib\\site-packages (from fastai) (3.7.4)\n",
      "Requirement already satisfied: torch<2.3,>=1.10 in c:\\users\\joktun\\anaconda3\\lib\\site-packages (from fastai) (2.2.2)\n",
      "Requirement already satisfied: spacy-legacy<3.1.0,>=3.0.11 in c:\\users\\joktun\\anaconda3\\lib\\site-packages (from spacy<4->fastai) (3.0.12)\n",
      "Requirement already satisfied: spacy-loggers<2.0.0,>=1.0.0 in c:\\users\\joktun\\anaconda3\\lib\\site-packages (from spacy<4->fastai) (1.0.5)\n",
      "Requirement already satisfied: murmurhash<1.1.0,>=0.28.0 in c:\\users\\joktun\\anaconda3\\lib\\site-packages (from spacy<4->fastai) (1.0.10)\n",
      "Requirement already satisfied: cymem<2.1.0,>=2.0.2 in c:\\users\\joktun\\anaconda3\\lib\\site-packages (from spacy<4->fastai) (2.0.8)\n",
      "Requirement already satisfied: preshed<3.1.0,>=3.0.2 in c:\\users\\joktun\\anaconda3\\lib\\site-packages (from spacy<4->fastai) (3.0.9)\n",
      "Requirement already satisfied: thinc<8.3.0,>=8.2.2 in c:\\users\\joktun\\anaconda3\\lib\\site-packages (from spacy<4->fastai) (8.2.3)\n",
      "Requirement already satisfied: wasabi<1.2.0,>=0.9.1 in c:\\users\\joktun\\anaconda3\\lib\\site-packages (from spacy<4->fastai) (1.1.2)\n",
      "Requirement already satisfied: srsly<3.0.0,>=2.4.3 in c:\\users\\joktun\\anaconda3\\lib\\site-packages (from spacy<4->fastai) (2.4.8)\n",
      "Requirement already satisfied: catalogue<2.1.0,>=2.0.6 in c:\\users\\joktun\\anaconda3\\lib\\site-packages (from spacy<4->fastai) (2.0.10)\n",
      "Requirement already satisfied: weasel<0.4.0,>=0.1.0 in c:\\users\\joktun\\anaconda3\\lib\\site-packages (from spacy<4->fastai) (0.3.4)\n",
      "Requirement already satisfied: typer<0.10.0,>=0.3.0 in c:\\users\\joktun\\anaconda3\\lib\\site-packages (from spacy<4->fastai) (0.9.4)\n",
      "Requirement already satisfied: smart-open<7.0.0,>=5.2.1 in c:\\users\\joktun\\anaconda3\\lib\\site-packages (from spacy<4->fastai) (5.2.1)\n",
      "Requirement already satisfied: tqdm<5.0.0,>=4.38.0 in c:\\users\\joktun\\anaconda3\\lib\\site-packages (from spacy<4->fastai) (4.65.0)\n",
      "Requirement already satisfied: pydantic!=1.8,!=1.8.1,<3.0.0,>=1.7.4 in c:\\users\\joktun\\anaconda3\\lib\\site-packages (from spacy<4->fastai) (1.10.8)\n",
      "Requirement already satisfied: jinja2 in c:\\users\\joktun\\anaconda3\\lib\\site-packages (from spacy<4->fastai) (3.1.2)\n",
      "Requirement already satisfied: setuptools in c:\\users\\joktun\\anaconda3\\lib\\site-packages (from spacy<4->fastai) (68.0.0)\n",
      "Requirement already satisfied: langcodes<4.0.0,>=3.2.0 in c:\\users\\joktun\\anaconda3\\lib\\site-packages (from spacy<4->fastai) (3.4.0)\n",
      "Requirement already satisfied: numpy>=1.19.0 in c:\\users\\joktun\\anaconda3\\lib\\site-packages (from spacy<4->fastai) (1.24.3)\n",
      "Requirement already satisfied: charset-normalizer<4,>=2 in c:\\users\\joktun\\anaconda3\\lib\\site-packages (from requests->fastai) (2.0.4)\n",
      "Requirement already satisfied: idna<4,>=2.5 in c:\\users\\joktun\\anaconda3\\lib\\site-packages (from requests->fastai) (3.4)\n",
      "Requirement already satisfied: urllib3<3,>=1.21.1 in c:\\users\\joktun\\anaconda3\\lib\\site-packages (from requests->fastai) (1.26.16)\n",
      "Requirement already satisfied: certifi>=2017.4.17 in c:\\users\\joktun\\anaconda3\\lib\\site-packages (from requests->fastai) (2023.7.22)\n",
      "Requirement already satisfied: filelock in c:\\users\\joktun\\anaconda3\\lib\\site-packages (from torch<2.3,>=1.10->fastai) (3.9.0)\n",
      "Requirement already satisfied: typing-extensions>=4.8.0 in c:\\users\\joktun\\anaconda3\\lib\\site-packages (from torch<2.3,>=1.10->fastai) (4.11.0)\n",
      "Requirement already satisfied: sympy in c:\\users\\joktun\\anaconda3\\lib\\site-packages (from torch<2.3,>=1.10->fastai) (1.11.1)\n",
      "Requirement already satisfied: networkx in c:\\users\\joktun\\anaconda3\\lib\\site-packages (from torch<2.3,>=1.10->fastai) (3.1)\n",
      "Requirement already satisfied: fsspec in c:\\users\\joktun\\anaconda3\\lib\\site-packages (from torch<2.3,>=1.10->fastai) (2023.4.0)\n",
      "Requirement already satisfied: contourpy>=1.0.1 in c:\\users\\joktun\\anaconda3\\lib\\site-packages (from matplotlib->fastai) (1.0.5)\n",
      "Requirement already satisfied: cycler>=0.10 in c:\\users\\joktun\\anaconda3\\lib\\site-packages (from matplotlib->fastai) (0.11.0)\n",
      "Requirement already satisfied: fonttools>=4.22.0 in c:\\users\\joktun\\anaconda3\\lib\\site-packages (from matplotlib->fastai) (4.25.0)\n",
      "Requirement already satisfied: kiwisolver>=1.0.1 in c:\\users\\joktun\\anaconda3\\lib\\site-packages (from matplotlib->fastai) (1.4.4)\n",
      "Requirement already satisfied: pyparsing<3.1,>=2.3.1 in c:\\users\\joktun\\anaconda3\\lib\\site-packages (from matplotlib->fastai) (3.0.9)\n",
      "Requirement already satisfied: python-dateutil>=2.7 in c:\\users\\joktun\\anaconda3\\lib\\site-packages (from matplotlib->fastai) (2.8.2)\n",
      "Requirement already satisfied: pytz>=2020.1 in c:\\users\\joktun\\anaconda3\\lib\\site-packages (from pandas->fastai) (2023.3.post1)\n",
      "Requirement already satisfied: tzdata>=2022.1 in c:\\users\\joktun\\anaconda3\\lib\\site-packages (from pandas->fastai) (2023.3)\n",
      "Requirement already satisfied: joblib>=1.1.1 in c:\\users\\joktun\\anaconda3\\lib\\site-packages (from scikit-learn->fastai) (1.2.0)\n",
      "Requirement already satisfied: threadpoolctl>=2.0.0 in c:\\users\\joktun\\anaconda3\\lib\\site-packages (from scikit-learn->fastai) (2.2.0)\n",
      "Requirement already satisfied: language-data>=1.2 in c:\\users\\joktun\\anaconda3\\lib\\site-packages (from langcodes<4.0.0,>=3.2.0->spacy<4->fastai) (1.2.0)\n",
      "Requirement already satisfied: six>=1.5 in c:\\users\\joktun\\anaconda3\\lib\\site-packages (from python-dateutil>=2.7->matplotlib->fastai) (1.16.0)\n",
      "Requirement already satisfied: blis<0.8.0,>=0.7.8 in c:\\users\\joktun\\anaconda3\\lib\\site-packages (from thinc<8.3.0,>=8.2.2->spacy<4->fastai) (0.7.11)\n",
      "Requirement already satisfied: confection<1.0.0,>=0.0.1 in c:\\users\\joktun\\anaconda3\\lib\\site-packages (from thinc<8.3.0,>=8.2.2->spacy<4->fastai) (0.1.4)\n",
      "Requirement already satisfied: colorama in c:\\users\\joktun\\anaconda3\\lib\\site-packages (from tqdm<5.0.0,>=4.38.0->spacy<4->fastai) (0.4.6)\n",
      "Requirement already satisfied: click<9.0.0,>=7.1.1 in c:\\users\\joktun\\anaconda3\\lib\\site-packages (from typer<0.10.0,>=0.3.0->spacy<4->fastai) (8.0.4)\n",
      "Requirement already satisfied: cloudpathlib<0.17.0,>=0.7.0 in c:\\users\\joktun\\anaconda3\\lib\\site-packages (from weasel<0.4.0,>=0.1.0->spacy<4->fastai) (0.16.0)\n",
      "Requirement already satisfied: MarkupSafe>=2.0 in c:\\users\\joktun\\anaconda3\\lib\\site-packages (from jinja2->spacy<4->fastai) (2.1.1)\n",
      "Requirement already satisfied: mpmath>=0.19 in c:\\users\\joktun\\anaconda3\\lib\\site-packages (from sympy->torch<2.3,>=1.10->fastai) (1.3.0)\n",
      "Requirement already satisfied: marisa-trie>=0.7.7 in c:\\users\\joktun\\anaconda3\\lib\\site-packages (from language-data>=1.2->langcodes<4.0.0,>=3.2.0->spacy<4->fastai) (1.1.0)\n",
      "Note: you may need to restart the kernel to use updated packages.\n"
     ]
    }
   ],
   "source": [
    "pip install fastai"
   ]
  },
  {
   "cell_type": "code",
   "execution_count": 2,
   "id": "c9ec3ff9",
   "metadata": {},
   "outputs": [
    {
     "name": "stdout",
     "output_type": "stream",
     "text": [
      "Requirement already satisfied: torchcam in c:\\users\\joktun\\anaconda3\\lib\\site-packages (0.4.0)\n",
      "Requirement already satisfied: torch<3.0.0,>=2.0.0 in c:\\users\\joktun\\anaconda3\\lib\\site-packages (from torchcam) (2.2.2)\n",
      "Requirement already satisfied: numpy<2.0.0,>=1.17.2 in c:\\users\\joktun\\anaconda3\\lib\\site-packages (from torchcam) (1.24.3)\n",
      "Requirement already satisfied: Pillow!=9.2.0,>=8.4.0 in c:\\users\\joktun\\anaconda3\\lib\\site-packages (from torchcam) (9.4.0)\n",
      "Requirement already satisfied: matplotlib<4.0.0,>=3.7.0 in c:\\users\\joktun\\anaconda3\\lib\\site-packages (from torchcam) (3.7.2)\n",
      "Requirement already satisfied: contourpy>=1.0.1 in c:\\users\\joktun\\anaconda3\\lib\\site-packages (from matplotlib<4.0.0,>=3.7.0->torchcam) (1.0.5)\n",
      "Requirement already satisfied: cycler>=0.10 in c:\\users\\joktun\\anaconda3\\lib\\site-packages (from matplotlib<4.0.0,>=3.7.0->torchcam) (0.11.0)\n",
      "Requirement already satisfied: fonttools>=4.22.0 in c:\\users\\joktun\\anaconda3\\lib\\site-packages (from matplotlib<4.0.0,>=3.7.0->torchcam) (4.25.0)\n",
      "Requirement already satisfied: kiwisolver>=1.0.1 in c:\\users\\joktun\\anaconda3\\lib\\site-packages (from matplotlib<4.0.0,>=3.7.0->torchcam) (1.4.4)\n",
      "Requirement already satisfied: packaging>=20.0 in c:\\users\\joktun\\anaconda3\\lib\\site-packages (from matplotlib<4.0.0,>=3.7.0->torchcam) (23.1)\n",
      "Requirement already satisfied: pyparsing<3.1,>=2.3.1 in c:\\users\\joktun\\anaconda3\\lib\\site-packages (from matplotlib<4.0.0,>=3.7.0->torchcam) (3.0.9)\n",
      "Requirement already satisfied: python-dateutil>=2.7 in c:\\users\\joktun\\anaconda3\\lib\\site-packages (from matplotlib<4.0.0,>=3.7.0->torchcam) (2.8.2)\n",
      "Requirement already satisfied: filelock in c:\\users\\joktun\\anaconda3\\lib\\site-packages (from torch<3.0.0,>=2.0.0->torchcam) (3.9.0)\n",
      "Requirement already satisfied: typing-extensions>=4.8.0 in c:\\users\\joktun\\anaconda3\\lib\\site-packages (from torch<3.0.0,>=2.0.0->torchcam) (4.11.0)\n",
      "Requirement already satisfied: sympy in c:\\users\\joktun\\anaconda3\\lib\\site-packages (from torch<3.0.0,>=2.0.0->torchcam) (1.11.1)\n",
      "Requirement already satisfied: networkx in c:\\users\\joktun\\anaconda3\\lib\\site-packages (from torch<3.0.0,>=2.0.0->torchcam) (3.1)\n",
      "Requirement already satisfied: jinja2 in c:\\users\\joktun\\anaconda3\\lib\\site-packages (from torch<3.0.0,>=2.0.0->torchcam) (3.1.2)\n",
      "Requirement already satisfied: fsspec in c:\\users\\joktun\\anaconda3\\lib\\site-packages (from torch<3.0.0,>=2.0.0->torchcam) (2023.4.0)\n",
      "Requirement already satisfied: six>=1.5 in c:\\users\\joktun\\anaconda3\\lib\\site-packages (from python-dateutil>=2.7->matplotlib<4.0.0,>=3.7.0->torchcam) (1.16.0)\n",
      "Requirement already satisfied: MarkupSafe>=2.0 in c:\\users\\joktun\\anaconda3\\lib\\site-packages (from jinja2->torch<3.0.0,>=2.0.0->torchcam) (2.1.1)\n",
      "Requirement already satisfied: mpmath>=0.19 in c:\\users\\joktun\\anaconda3\\lib\\site-packages (from sympy->torch<3.0.0,>=2.0.0->torchcam) (1.3.0)\n",
      "Note: you may need to restart the kernel to use updated packages.\n"
     ]
    }
   ],
   "source": [
    "pip install torchcam"
   ]
  },
  {
   "cell_type": "code",
   "execution_count": 3,
   "id": "d3ecf312",
   "metadata": {},
   "outputs": [],
   "source": [
    "import os\n",
    "import numpy as np\n",
    "import torch\n",
    "import torch.nn as nn\n",
    "import torch.optim as optim\n",
    "from torchvision import datasets, transforms, models\n",
    "from sklearn.metrics import f1_score, confusion_matrix\n",
    "import matplotlib.pyplot as plt\n",
    "import seaborn as sns\n",
    "from fastai.vision.all import *\n",
    "from PIL import Image"
   ]
  },
  {
   "cell_type": "code",
   "execution_count": 4,
   "id": "281d7355",
   "metadata": {},
   "outputs": [],
   "source": [
    "import hashlib\n",
    "from torchcam.methods import SmoothGradCAMpp"
   ]
  },
  {
   "cell_type": "code",
   "execution_count": 5,
   "id": "8dc930b8",
   "metadata": {},
   "outputs": [],
   "source": [
    "from torchvision.transforms.functional import to_tensor, to_pil_image\n",
    "from torchcam.utils import overlay_mask"
   ]
  },
  {
   "cell_type": "code",
   "execution_count": 6,
   "id": "8ffdb72f",
   "metadata": {},
   "outputs": [
    {
     "name": "stderr",
     "output_type": "stream",
     "text": [
      "C:\\Users\\Joktun\\AppData\\Local\\Temp\\ipykernel_14840\\2057739371.py:1: DeprecationWarning: Importing display from IPython.core.display is deprecated since IPython 7.14, please import from IPython display\n",
      "  from IPython.core.display import display, HTML\n"
     ]
    },
    {
     "data": {
      "text/html": [
       "\n",
       "<style>\n",
       ".container { \n",
       "   width:90% !important; \n",
       "   position: relative; \n",
       "   right: 25px; \n",
       "}\n",
       "</style>\n"
      ],
      "text/plain": [
       "<IPython.core.display.HTML object>"
      ]
     },
     "metadata": {},
     "output_type": "display_data"
    }
   ],
   "source": [
    "from IPython.core.display import display, HTML\n",
    "display(HTML(\"\"\"\n",
    "<style>\n",
    ".container { \n",
    "   width:90% !important; \n",
    "   position: relative; \n",
    "   right: 25px; \n",
    "}\n",
    "</style>\n",
    "\"\"\"))"
   ]
  },
  {
   "cell_type": "code",
   "execution_count": 7,
   "id": "0f67cb4f",
   "metadata": {},
   "outputs": [],
   "source": [
    "root_folder = r'C:\\Users\\Joktun\\Desktop\\kaggle\\oblozhka'"
   ]
  },
  {
   "cell_type": "markdown",
   "id": "fbf9b245",
   "metadata": {},
   "source": [
    "### Поиск дубликатов"
   ]
  },
  {
   "cell_type": "markdown",
   "id": "8dcf2da3",
   "metadata": {},
   "source": [
    "Генерация хэш-суммы файла. Это позволяет идентифицировать файлы с идентичным содержимым"
   ]
  },
  {
   "cell_type": "code",
   "execution_count": 8,
   "id": "d20989a1",
   "metadata": {},
   "outputs": [],
   "source": [
    "def file_hash(filepath):\n",
    "    with open(filepath, 'rb') as f:\n",
    "        return hashlib.md5(f.read()).hexdigest()"
   ]
  },
  {
   "cell_type": "markdown",
   "id": "f8bc7423",
   "metadata": {},
   "source": [
    "Ищем и выводим список дубликатов файлов изображений, а также подсчитывает их общее количество"
   ]
  },
  {
   "cell_type": "code",
   "execution_count": 9,
   "id": "5792391f",
   "metadata": {},
   "outputs": [],
   "source": [
    "def find_duplicates(root_folder):\n",
    "    duplicates = {}\n",
    "    for dirpath, _, filenames in os.walk(root_folder):\n",
    "        for filename in filenames:\n",
    "            if filename.lower().endswith(('.png', '.jpg', '.jpeg', '.bmp', '.gif', '.tiff')):\n",
    "                filepath = os.path.join(dirpath, filename)\n",
    "                img_hash = file_hash(filepath)\n",
    "                if img_hash in duplicates:\n",
    "                    duplicates[img_hash].append(filepath)\n",
    "                else:\n",
    "                    duplicates[img_hash] = [filepath]\n",
    " \n",
    "    total_duplicates = 0\n",
    "    for key, files in duplicates.items():\n",
    "        if len(files) > 1:\n",
    "            print(f\"Найдены дубликаты ({len(files)} файлов):\")\n",
    "            total_duplicates += (len(files) - 1)\n",
    "            for file in files:\n",
    "                print(file)\n",
    "            print(\"\\n\")\n",
    "\n",
    "    print(f\"Общее количество дубликатных файлов: {total_duplicates}\")"
   ]
  },
  {
   "cell_type": "code",
   "execution_count": 10,
   "id": "40572f21",
   "metadata": {},
   "outputs": [
    {
     "name": "stdout",
     "output_type": "stream",
     "text": [
      "Найдены дубликаты (2 файлов):\n",
      "C:\\Users\\Joktun\\Desktop\\kaggle\\oblozhka\\anime\\02eb263f-18b1-4b06-b1ec-1bd4112bdda6.png\n",
      "C:\\Users\\Joktun\\Desktop\\kaggle\\oblozhka\\anime\\054883a9-b2e2-4e52-ad52-c980ea768cf0.png\n",
      "\n",
      "\n",
      "Найдены дубликаты (2 файлов):\n",
      "C:\\Users\\Joktun\\Desktop\\kaggle\\oblozhka\\anime\\0b4c78ca-b3b2-45d4-84ac-f401cfe441d9.png\n",
      "C:\\Users\\Joktun\\Desktop\\kaggle\\oblozhka\\anime\\e0f6f77d-b589-4370-aa16-975fa91f481e.png\n",
      "\n",
      "\n",
      "Найдены дубликаты (2 файлов):\n",
      "C:\\Users\\Joktun\\Desktop\\kaggle\\oblozhka\\anime\\10d9da17-1902-43d2-898e-ebc7563608bb.png\n",
      "C:\\Users\\Joktun\\Desktop\\kaggle\\oblozhka\\anime\\16072b25-550c-43b3-9cd3-6f575ec0a0ee.png\n",
      "\n",
      "\n",
      "Найдены дубликаты (2 файлов):\n",
      "C:\\Users\\Joktun\\Desktop\\kaggle\\oblozhka\\anime\\2e02e554-3b01-4255-9295-f7f967d0f52a.png\n",
      "C:\\Users\\Joktun\\Desktop\\kaggle\\oblozhka\\anime\\680519a3-9a87-428b-8d3b-c7ef4b005de6.png\n",
      "\n",
      "\n",
      "Найдены дубликаты (2 файлов):\n",
      "C:\\Users\\Joktun\\Desktop\\kaggle\\oblozhka\\anime\\48f2154c-2867-4253-9076-bc5d0aa800db.png\n",
      "C:\\Users\\Joktun\\Desktop\\kaggle\\oblozhka\\anime\\bf9fe9d3-9393-4d02-9e21-db866297241b.png\n",
      "\n",
      "\n",
      "Найдены дубликаты (2 файлов):\n",
      "C:\\Users\\Joktun\\Desktop\\kaggle\\oblozhka\\black metal\\0d049588-c48c-4516-9d7d-8e316a39b1d9.png\n",
      "C:\\Users\\Joktun\\Desktop\\kaggle\\oblozhka\\black metal\\151a2a52-ffe7-35e1-9fa2-b03d1cd86fb7.png\n",
      "\n",
      "\n",
      "Найдены дубликаты (2 файлов):\n",
      "C:\\Users\\Joktun\\Desktop\\kaggle\\oblozhka\\classical\\1866e78e-b5d7-467a-8229-28e6e95cf6db.png\n",
      "C:\\Users\\Joktun\\Desktop\\kaggle\\oblozhka\\classical\\59e085a2-1b7f-4629-bbf5-d02244e05983.png\n",
      "\n",
      "\n",
      "Найдены дубликаты (3 файлов):\n",
      "C:\\Users\\Joktun\\Desktop\\kaggle\\oblozhka\\classical\\481ff771-2960-4a2c-a0ad-6b91b872e32d.png\n",
      "C:\\Users\\Joktun\\Desktop\\kaggle\\oblozhka\\classical\\ce7a56b3-f52a-4ad0-81f1-7a5a041bcc34.png\n",
      "C:\\Users\\Joktun\\Desktop\\kaggle\\oblozhka\\classical\\ff0f6253-00db-4472-85a9-8870ba4014b7.png\n",
      "\n",
      "\n",
      "Найдены дубликаты (2 файлов):\n",
      "C:\\Users\\Joktun\\Desktop\\kaggle\\oblozhka\\classical\\5397f143-79de-4a42-9b5f-201fb4e91c6f.png\n",
      "C:\\Users\\Joktun\\Desktop\\kaggle\\oblozhka\\classical\\8e012a89-4adf-4ac1-8837-a740d7da7d0f.png\n",
      "\n",
      "\n",
      "Найдены дубликаты (2 файлов):\n",
      "C:\\Users\\Joktun\\Desktop\\kaggle\\oblozhka\\country\\2a0de36b-ab61-4633-8b12-83cb39388be7.png\n",
      "C:\\Users\\Joktun\\Desktop\\kaggle\\oblozhka\\country\\c9e52ce6-963f-4891-94aa-8c3e19224d4e.png\n",
      "\n",
      "\n",
      "Найдены дубликаты (2 файлов):\n",
      "C:\\Users\\Joktun\\Desktop\\kaggle\\oblozhka\\country\\3e4a7357-1a69-4a7a-9ed8-ef272101de16.png\n",
      "C:\\Users\\Joktun\\Desktop\\kaggle\\oblozhka\\pop\\9bb87cbe-2b84-4967-984e-e5198634537f.png\n",
      "\n",
      "\n",
      "Найдены дубликаты (3 файлов):\n",
      "C:\\Users\\Joktun\\Desktop\\kaggle\\oblozhka\\country\\600583c4-9b78-4758-b8fc-76f303fab9bb.png\n",
      "C:\\Users\\Joktun\\Desktop\\kaggle\\oblozhka\\country\\62b6ad6f-919d-487e-8a93-2360ad45cb52.png\n",
      "C:\\Users\\Joktun\\Desktop\\kaggle\\oblozhka\\country\\d727b7de-bc03-41a3-82eb-0ec306238543.png\n",
      "\n",
      "\n",
      "Найдены дубликаты (2 файлов):\n",
      "C:\\Users\\Joktun\\Desktop\\kaggle\\oblozhka\\disco\\33f9574f-a5a7-46ee-ad2e-495bb2fcecd5.png\n",
      "C:\\Users\\Joktun\\Desktop\\kaggle\\oblozhka\\disco\\cd93fa72-8f5a-4471-ae9a-8921987e1d1f.png\n",
      "\n",
      "\n",
      "Найдены дубликаты (2 файлов):\n",
      "C:\\Users\\Joktun\\Desktop\\kaggle\\oblozhka\\disco\\5c4f2c7c-8412-39fa-9468-23c52e285cd7.png\n",
      "C:\\Users\\Joktun\\Desktop\\kaggle\\oblozhka\\reggae\\5c4f2c7c-8412-39fa-9468-23c52e285cd7.png\n",
      "\n",
      "\n",
      "Найдены дубликаты (2 файлов):\n",
      "C:\\Users\\Joktun\\Desktop\\kaggle\\oblozhka\\disco\\5fedda2c-3c6b-42b6-94e3-0579dfd31fa8.png\n",
      "C:\\Users\\Joktun\\Desktop\\kaggle\\oblozhka\\disco\\bd1392ee-f988-461a-8b35-2da8c856ce67.png\n",
      "\n",
      "\n",
      "Найдены дубликаты (2 файлов):\n",
      "C:\\Users\\Joktun\\Desktop\\kaggle\\oblozhka\\disco\\6ea3d2de-f234-4bdd-8ba8-4e9523f5ae1a.png\n",
      "C:\\Users\\Joktun\\Desktop\\kaggle\\oblozhka\\pop\\6ea3d2de-f234-4bdd-8ba8-4e9523f5ae1a.png\n",
      "\n",
      "\n",
      "Найдены дубликаты (2 файлов):\n",
      "C:\\Users\\Joktun\\Desktop\\kaggle\\oblozhka\\edm\\0d6f235e-354a-4446-806f-703513a6dcf0.png\n",
      "C:\\Users\\Joktun\\Desktop\\kaggle\\oblozhka\\edm\\593c91f4-ac3f-40fa-a463-619e3933624d.png\n",
      "\n",
      "\n",
      "Найдены дубликаты (2 файлов):\n",
      "C:\\Users\\Joktun\\Desktop\\kaggle\\oblozhka\\edm\\0ea7b200-e67b-40e3-8e01-6075433b00b7.png\n",
      "C:\\Users\\Joktun\\Desktop\\kaggle\\oblozhka\\edm\\4afa3acf-0676-4c3c-b38f-f14ea4758a2a.png\n",
      "\n",
      "\n",
      "Найдены дубликаты (2 файлов):\n",
      "C:\\Users\\Joktun\\Desktop\\kaggle\\oblozhka\\edm\\117d8fae-af26-4b17-8265-bc1107df9605.png\n",
      "C:\\Users\\Joktun\\Desktop\\kaggle\\oblozhka\\edm\\18613466-5471-4b8e-8a46-388e297cb1dc.png\n",
      "\n",
      "\n",
      "Найдены дубликаты (2 файлов):\n",
      "C:\\Users\\Joktun\\Desktop\\kaggle\\oblozhka\\edm\\2543811e-1038-4293-a54b-a4c2d7bdc125.png\n",
      "C:\\Users\\Joktun\\Desktop\\kaggle\\oblozhka\\edm\\7ea5c223-da75-4119-9acc-d7314b5401fa.png\n",
      "\n",
      "\n",
      "Найдены дубликаты (2 файлов):\n",
      "C:\\Users\\Joktun\\Desktop\\kaggle\\oblozhka\\edm\\28b355fd-bde0-465e-8868-cc87e7d71cc3.png\n",
      "C:\\Users\\Joktun\\Desktop\\kaggle\\oblozhka\\edm\\9e77496a-a0fe-454c-bce4-00b602779137.png\n",
      "\n",
      "\n",
      "Найдены дубликаты (2 файлов):\n",
      "C:\\Users\\Joktun\\Desktop\\kaggle\\oblozhka\\edm\\2df9c300-ad4c-4c2c-84ce-8407d84aac27.png\n",
      "C:\\Users\\Joktun\\Desktop\\kaggle\\oblozhka\\edm\\731e9a74-1af0-4a6d-bf6c-913aa0cfee7b.png\n",
      "\n",
      "\n",
      "Найдены дубликаты (2 файлов):\n",
      "C:\\Users\\Joktun\\Desktop\\kaggle\\oblozhka\\edm\\382fecd7-680e-4bc2-91a3-7f250569e7e4.png\n",
      "C:\\Users\\Joktun\\Desktop\\kaggle\\oblozhka\\edm\\8a2ce4e7-efde-4922-a5b0-455a1c3bd4e6.png\n",
      "\n",
      "\n",
      "Найдены дубликаты (2 файлов):\n",
      "C:\\Users\\Joktun\\Desktop\\kaggle\\oblozhka\\edm\\3860aad3-378d-4b10-bfb2-88fa6857b552.png\n",
      "C:\\Users\\Joktun\\Desktop\\kaggle\\oblozhka\\edm\\ec4ad485-dff5-464b-8774-f9c5874a4bea.png\n",
      "\n",
      "\n",
      "Найдены дубликаты (2 файлов):\n",
      "C:\\Users\\Joktun\\Desktop\\kaggle\\oblozhka\\edm\\3c0304c7-6551-42b9-9fe7-f0934f5ed74d.png\n",
      "C:\\Users\\Joktun\\Desktop\\kaggle\\oblozhka\\pop\\4e6925a9-4264-4fb1-9e3d-55a7c5077ff6.png\n",
      "\n",
      "\n",
      "Найдены дубликаты (2 файлов):\n",
      "C:\\Users\\Joktun\\Desktop\\kaggle\\oblozhka\\edm\\3d482d4a-82d3-4834-919c-296aba0ced2f.png\n",
      "C:\\Users\\Joktun\\Desktop\\kaggle\\oblozhka\\edm\\9d5b8ef5-9194-4dc4-bf64-50a88f0c80e6.png\n",
      "\n",
      "\n",
      "Найдены дубликаты (2 файлов):\n",
      "C:\\Users\\Joktun\\Desktop\\kaggle\\oblozhka\\edm\\3d7bf9a5-f2a3-4b38-bd54-8ea21cac7b4b.png\n",
      "C:\\Users\\Joktun\\Desktop\\kaggle\\oblozhka\\pop\\39320b6a-e348-4065-8e78-be7b694fd05a.png\n",
      "\n",
      "\n",
      "Найдены дубликаты (2 файлов):\n",
      "C:\\Users\\Joktun\\Desktop\\kaggle\\oblozhka\\edm\\4149c6f0-c6d2-452b-9af4-57adadb07b63.png\n",
      "C:\\Users\\Joktun\\Desktop\\kaggle\\oblozhka\\edm\\a56f64df-b2a2-4e30-ba6c-d4a89886307b.png\n",
      "\n",
      "\n",
      "Найдены дубликаты (2 файлов):\n",
      "C:\\Users\\Joktun\\Desktop\\kaggle\\oblozhka\\edm\\60042fa7-eab8-4894-a489-3fad6d761e46.png\n",
      "C:\\Users\\Joktun\\Desktop\\kaggle\\oblozhka\\edm\\821c68ae-06ea-41c9-a657-c1372f4e6610.png\n",
      "\n",
      "\n",
      "Найдены дубликаты (2 файлов):\n",
      "C:\\Users\\Joktun\\Desktop\\kaggle\\oblozhka\\edm\\62ad1689-5b1d-46c5-bf46-15064633feb8.png\n",
      "C:\\Users\\Joktun\\Desktop\\kaggle\\oblozhka\\pop\\b15c4d75-4235-4e92-8de7-bbf03e76f3f2.png\n",
      "\n",
      "\n",
      "Найдены дубликаты (2 файлов):\n",
      "C:\\Users\\Joktun\\Desktop\\kaggle\\oblozhka\\edm\\6648e1b5-97e9-4687-b210-45192bb5a68a.png\n",
      "C:\\Users\\Joktun\\Desktop\\kaggle\\oblozhka\\edm\\7be4f5cb-04dd-418b-a2f2-deeeb5474603.png\n",
      "\n",
      "\n",
      "Найдены дубликаты (2 файлов):\n",
      "C:\\Users\\Joktun\\Desktop\\kaggle\\oblozhka\\edm\\6c06dc0f-99e7-477c-868e-eefd0959723d.png\n",
      "C:\\Users\\Joktun\\Desktop\\kaggle\\oblozhka\\edm\\9bc8f53e-f3a2-4786-b774-45219b8fa838.png\n",
      "\n",
      "\n",
      "Найдены дубликаты (2 файлов):\n",
      "C:\\Users\\Joktun\\Desktop\\kaggle\\oblozhka\\edm\\72512486-8f83-4382-91e5-b94fba5fa587.png\n",
      "C:\\Users\\Joktun\\Desktop\\kaggle\\oblozhka\\edm\\8feea890-2d06-4233-ac4e-a448008ed53e.png\n",
      "\n",
      "\n",
      "Найдены дубликаты (2 файлов):\n",
      "C:\\Users\\Joktun\\Desktop\\kaggle\\oblozhka\\edm\\8339a168-16c1-4432-ad01-f9008426ffe8.png\n",
      "C:\\Users\\Joktun\\Desktop\\kaggle\\oblozhka\\edm\\aacf5c7e-6d68-41f4-9e22-6963612d44b8.png\n",
      "\n",
      "\n",
      "Найдены дубликаты (2 файлов):\n",
      "C:\\Users\\Joktun\\Desktop\\kaggle\\oblozhka\\edm\\843fc9ec-c9b0-4418-a460-90c3546f1d5b.png\n",
      "C:\\Users\\Joktun\\Desktop\\kaggle\\oblozhka\\edm\\aa6836e5-5773-4d1d-ac92-d3b144b420c2.png\n",
      "\n",
      "\n",
      "Найдены дубликаты (2 файлов):\n",
      "C:\\Users\\Joktun\\Desktop\\kaggle\\oblozhka\\edm\\8ed27699-4c84-4242-bc2b-6fd13a9f9ee6.png\n",
      "C:\\Users\\Joktun\\Desktop\\kaggle\\oblozhka\\pop\\318e9a15-0dc3-428d-bd84-dd54b981fe96.png\n",
      "\n",
      "\n",
      "Найдены дубликаты (2 файлов):\n",
      "C:\\Users\\Joktun\\Desktop\\kaggle\\oblozhka\\edm\\a1f5a367-6322-4028-81f0-e538c8876dff.png\n",
      "C:\\Users\\Joktun\\Desktop\\kaggle\\oblozhka\\edm\\f3371775-6249-4d8d-a2ec-286a169d29bc.png\n",
      "\n",
      "\n",
      "Найдены дубликаты (2 файлов):\n",
      "C:\\Users\\Joktun\\Desktop\\kaggle\\oblozhka\\edm\\b5029610-8d1a-4a12-a3a7-ae55a4d30218.png\n",
      "C:\\Users\\Joktun\\Desktop\\kaggle\\oblozhka\\pop\\57826b15-44d5-49c3-8c23-5db6bd9c9dfc.png\n",
      "\n",
      "\n",
      "Найдены дубликаты (2 файлов):\n",
      "C:\\Users\\Joktun\\Desktop\\kaggle\\oblozhka\\edm\\ea0e7d30-a50a-4abd-9d68-c39cc62a9d14.png\n",
      "C:\\Users\\Joktun\\Desktop\\kaggle\\oblozhka\\pop\\c439cefe-864b-476a-a5e6-e3c3375d7d99.png\n",
      "\n",
      "\n",
      "Найдены дубликаты (2 файлов):\n",
      "C:\\Users\\Joktun\\Desktop\\kaggle\\oblozhka\\edm\\feaf3fc7-5a8b-40e3-8b3a-37fe28585e5a.png\n",
      "C:\\Users\\Joktun\\Desktop\\kaggle\\oblozhka\\pop\\046eed53-47c6-4c05-8b94-8b63ea260d65.png\n",
      "\n",
      "\n",
      "Найдены дубликаты (2 файлов):\n",
      "C:\\Users\\Joktun\\Desktop\\kaggle\\oblozhka\\jazz\\2be50943-e756-4840-888d-4dbd675a2ecb.png\n",
      "C:\\Users\\Joktun\\Desktop\\kaggle\\oblozhka\\jazz\\f972693b-d5e3-4ab6-9894-9493c2a6c49f.png\n",
      "\n",
      "\n",
      "Найдены дубликаты (2 файлов):\n",
      "C:\\Users\\Joktun\\Desktop\\kaggle\\oblozhka\\jazz\\3aaa9d21-4982-4c13-a1bb-caa57195fee6.png\n",
      "C:\\Users\\Joktun\\Desktop\\kaggle\\oblozhka\\jazz\\5307d417-aacf-4608-b780-26c54a86911e.png\n",
      "\n",
      "\n",
      "Найдены дубликаты (2 файлов):\n",
      "C:\\Users\\Joktun\\Desktop\\kaggle\\oblozhka\\pop\\1b4f8392-566f-48eb-9c79-da2d02e7d74a.png\n",
      "C:\\Users\\Joktun\\Desktop\\kaggle\\oblozhka\\pop\\6b7d4928-76e0-44ae-a9fc-42147b757c3c.png\n",
      "\n",
      "\n",
      "Найдены дубликаты (2 файлов):\n",
      "C:\\Users\\Joktun\\Desktop\\kaggle\\oblozhka\\pop\\3e750700-6dbf-47bc-b912-e98aac22521c.png\n",
      "C:\\Users\\Joktun\\Desktop\\kaggle\\oblozhka\\pop\\82e9a9af-7a8b-4836-b0e1-a0b3185e0975.png\n",
      "\n",
      "\n",
      "Найдены дубликаты (2 файлов):\n",
      "C:\\Users\\Joktun\\Desktop\\kaggle\\oblozhka\\pop\\454c9367-79da-4a25-9405-f9364d79fcec.png\n",
      "C:\\Users\\Joktun\\Desktop\\kaggle\\oblozhka\\pop\\5fbf2852-d623-471d-8180-69fc48b2a1e4.png\n",
      "\n",
      "\n",
      "Найдены дубликаты (2 файлов):\n",
      "C:\\Users\\Joktun\\Desktop\\kaggle\\oblozhka\\pop\\695b4a0e-985d-49a8-a315-7c7831a60ff2.png\n",
      "C:\\Users\\Joktun\\Desktop\\kaggle\\oblozhka\\pop\\ed9baabb-11bb-487f-9bc4-2096e693fa3e.png\n",
      "\n",
      "\n",
      "Найдены дубликаты (2 файлов):\n",
      "C:\\Users\\Joktun\\Desktop\\kaggle\\oblozhka\\pop\\7e5955d3-c4f3-493c-a3d4-8b855bfc1833.png\n",
      "C:\\Users\\Joktun\\Desktop\\kaggle\\oblozhka\\rap\\7e5955d3-c4f3-493c-a3d4-8b855bfc1833.png\n",
      "\n",
      "\n",
      "Найдены дубликаты (2 файлов):\n",
      "C:\\Users\\Joktun\\Desktop\\kaggle\\oblozhka\\pop\\9123d325-bf8e-4423-be98-98478dccee20.png\n",
      "C:\\Users\\Joktun\\Desktop\\kaggle\\oblozhka\\rap\\9123d325-bf8e-4423-be98-98478dccee20.png\n",
      "\n",
      "\n",
      "Найдены дубликаты (3 файлов):\n",
      "C:\\Users\\Joktun\\Desktop\\kaggle\\oblozhka\\reggae\\115b13b6-39de-4b92-b3d6-0221861ed572.png\n",
      "C:\\Users\\Joktun\\Desktop\\kaggle\\oblozhka\\reggae\\429d2930-c542-40ca-8a36-965755a98f7b.png\n",
      "C:\\Users\\Joktun\\Desktop\\kaggle\\oblozhka\\reggae\\74d376f0-52b4-429c-adc6-0567339b0e35.png\n",
      "\n",
      "\n",
      "Общее количество дубликатных файлов: 52\n"
     ]
    }
   ],
   "source": [
    "find_duplicates(root_folder)"
   ]
  },
  {
   "cell_type": "markdown",
   "id": "a11073a5",
   "metadata": {},
   "source": [
    "Дубликатов не очень много, чтобы они на что-то повлияли - оставим как есть."
   ]
  },
  {
   "cell_type": "markdown",
   "id": "b256a9d7",
   "metadata": {},
   "source": [
    "## Обучение моделей"
   ]
  },
  {
   "cell_type": "markdown",
   "id": "05d26b69",
   "metadata": {},
   "source": [
    "### Baseline Модель"
   ]
  },
  {
   "cell_type": "markdown",
   "id": "f282738b",
   "metadata": {},
   "source": [
    "Устройство, на котором будем проводить обучение"
   ]
  },
  {
   "cell_type": "code",
   "execution_count": 11,
   "id": "cb79b289",
   "metadata": {},
   "outputs": [],
   "source": [
    "device = torch.device(\"cuda\" if torch.cuda.is_available() else \"cpu\")"
   ]
  },
  {
   "cell_type": "markdown",
   "id": "b3a29092",
   "metadata": {},
   "source": [
    "Преобразование изображения в тензор"
   ]
  },
  {
   "cell_type": "code",
   "execution_count": 12,
   "id": "6702b46a",
   "metadata": {},
   "outputs": [],
   "source": [
    "image_transform = transforms.Compose([\n",
    "    transforms.Resize(256),\n",
    "    transforms.CenterCrop(224),\n",
    "    transforms.ToTensor(),\n",
    "    transforms.Normalize(mean=[0.485, 0.456, 0.406], std=[0.229, 0.224, 0.225]),\n",
    "])"
   ]
  },
  {
   "cell_type": "markdown",
   "id": "fec4cd85",
   "metadata": {},
   "source": [
    "Создание датасета изображений"
   ]
  },
  {
   "cell_type": "code",
   "execution_count": 13,
   "id": "905ce3e1",
   "metadata": {},
   "outputs": [],
   "source": [
    "dataset = datasets.ImageFolder(root=root_folder, transform=image_transform)"
   ]
  },
  {
   "cell_type": "markdown",
   "id": "ce213983",
   "metadata": {},
   "source": [
    "Разделение датасета на обучающую и тестовую выборки"
   ]
  },
  {
   "cell_type": "code",
   "execution_count": 14,
   "id": "acab6380",
   "metadata": {},
   "outputs": [],
   "source": [
    "train_size = int(0.8 * len(dataset))\n",
    "test_size = len(dataset) - train_size\n",
    "train_dataset, test_dataset = torch.utils.data.random_split(dataset, [train_size, test_size])"
   ]
  },
  {
   "cell_type": "markdown",
   "id": "d78fa15c",
   "metadata": {},
   "source": [
    "Загрузка предобученной модели ResNet-18"
   ]
  },
  {
   "cell_type": "code",
   "execution_count": 15,
   "id": "01b54bab",
   "metadata": {},
   "outputs": [
    {
     "name": "stderr",
     "output_type": "stream",
     "text": [
      "C:\\Users\\Joktun\\AppData\\Roaming\\Python\\Python311\\site-packages\\torchvision\\models\\_utils.py:208: UserWarning: The parameter 'pretrained' is deprecated since 0.13 and may be removed in the future, please use 'weights' instead.\n",
      "  warnings.warn(\n",
      "C:\\Users\\Joktun\\AppData\\Roaming\\Python\\Python311\\site-packages\\torchvision\\models\\_utils.py:223: UserWarning: Arguments other than a weight enum or `None` for 'weights' are deprecated since 0.13 and may be removed in the future. The current behavior is equivalent to passing `weights=ResNet18_Weights.IMAGENET1K_V1`. You can also use `weights=ResNet18_Weights.DEFAULT` to get the most up-to-date weights.\n",
      "  warnings.warn(msg)\n"
     ]
    }
   ],
   "source": [
    "model = models.resnet18(pretrained=True)"
   ]
  },
  {
   "cell_type": "markdown",
   "id": "efad009f",
   "metadata": {},
   "source": [
    "Создание загрузчиков данных"
   ]
  },
  {
   "cell_type": "code",
   "execution_count": 16,
   "id": "3898f854",
   "metadata": {},
   "outputs": [],
   "source": [
    "train_loader = torch.utils.data.DataLoader(train_dataset, batch_size=32, shuffle=True)\n",
    "test_loader = torch.utils.data.DataLoader(test_dataset, batch_size=32, shuffle=False)"
   ]
  },
  {
   "cell_type": "markdown",
   "id": "c9a726e8",
   "metadata": {},
   "source": [
    "Заменяем последний слой (голову классификации) на новый слой с количеством классов равным количеству жанров"
   ]
  },
  {
   "cell_type": "code",
   "execution_count": 17,
   "id": "a9430bf0",
   "metadata": {},
   "outputs": [],
   "source": [
    "num_genres = len(dataset.classes)\n",
    "model.fc = nn.Linear(model.fc.in_features, num_genres)"
   ]
  },
  {
   "cell_type": "markdown",
   "id": "a5fdc2b7",
   "metadata": {},
   "source": [
    "Перенос модели на GPU, если доступно"
   ]
  },
  {
   "cell_type": "code",
   "execution_count": 18,
   "id": "435f8d78",
   "metadata": {},
   "outputs": [
    {
     "data": {
      "text/plain": [
       "ResNet(\n",
       "  (conv1): Conv2d(3, 64, kernel_size=(7, 7), stride=(2, 2), padding=(3, 3), bias=False)\n",
       "  (bn1): BatchNorm2d(64, eps=1e-05, momentum=0.1, affine=True, track_running_stats=True)\n",
       "  (relu): ReLU(inplace=True)\n",
       "  (maxpool): MaxPool2d(kernel_size=3, stride=2, padding=1, dilation=1, ceil_mode=False)\n",
       "  (layer1): Sequential(\n",
       "    (0): BasicBlock(\n",
       "      (conv1): Conv2d(64, 64, kernel_size=(3, 3), stride=(1, 1), padding=(1, 1), bias=False)\n",
       "      (bn1): BatchNorm2d(64, eps=1e-05, momentum=0.1, affine=True, track_running_stats=True)\n",
       "      (relu): ReLU(inplace=True)\n",
       "      (conv2): Conv2d(64, 64, kernel_size=(3, 3), stride=(1, 1), padding=(1, 1), bias=False)\n",
       "      (bn2): BatchNorm2d(64, eps=1e-05, momentum=0.1, affine=True, track_running_stats=True)\n",
       "    )\n",
       "    (1): BasicBlock(\n",
       "      (conv1): Conv2d(64, 64, kernel_size=(3, 3), stride=(1, 1), padding=(1, 1), bias=False)\n",
       "      (bn1): BatchNorm2d(64, eps=1e-05, momentum=0.1, affine=True, track_running_stats=True)\n",
       "      (relu): ReLU(inplace=True)\n",
       "      (conv2): Conv2d(64, 64, kernel_size=(3, 3), stride=(1, 1), padding=(1, 1), bias=False)\n",
       "      (bn2): BatchNorm2d(64, eps=1e-05, momentum=0.1, affine=True, track_running_stats=True)\n",
       "    )\n",
       "  )\n",
       "  (layer2): Sequential(\n",
       "    (0): BasicBlock(\n",
       "      (conv1): Conv2d(64, 128, kernel_size=(3, 3), stride=(2, 2), padding=(1, 1), bias=False)\n",
       "      (bn1): BatchNorm2d(128, eps=1e-05, momentum=0.1, affine=True, track_running_stats=True)\n",
       "      (relu): ReLU(inplace=True)\n",
       "      (conv2): Conv2d(128, 128, kernel_size=(3, 3), stride=(1, 1), padding=(1, 1), bias=False)\n",
       "      (bn2): BatchNorm2d(128, eps=1e-05, momentum=0.1, affine=True, track_running_stats=True)\n",
       "      (downsample): Sequential(\n",
       "        (0): Conv2d(64, 128, kernel_size=(1, 1), stride=(2, 2), bias=False)\n",
       "        (1): BatchNorm2d(128, eps=1e-05, momentum=0.1, affine=True, track_running_stats=True)\n",
       "      )\n",
       "    )\n",
       "    (1): BasicBlock(\n",
       "      (conv1): Conv2d(128, 128, kernel_size=(3, 3), stride=(1, 1), padding=(1, 1), bias=False)\n",
       "      (bn1): BatchNorm2d(128, eps=1e-05, momentum=0.1, affine=True, track_running_stats=True)\n",
       "      (relu): ReLU(inplace=True)\n",
       "      (conv2): Conv2d(128, 128, kernel_size=(3, 3), stride=(1, 1), padding=(1, 1), bias=False)\n",
       "      (bn2): BatchNorm2d(128, eps=1e-05, momentum=0.1, affine=True, track_running_stats=True)\n",
       "    )\n",
       "  )\n",
       "  (layer3): Sequential(\n",
       "    (0): BasicBlock(\n",
       "      (conv1): Conv2d(128, 256, kernel_size=(3, 3), stride=(2, 2), padding=(1, 1), bias=False)\n",
       "      (bn1): BatchNorm2d(256, eps=1e-05, momentum=0.1, affine=True, track_running_stats=True)\n",
       "      (relu): ReLU(inplace=True)\n",
       "      (conv2): Conv2d(256, 256, kernel_size=(3, 3), stride=(1, 1), padding=(1, 1), bias=False)\n",
       "      (bn2): BatchNorm2d(256, eps=1e-05, momentum=0.1, affine=True, track_running_stats=True)\n",
       "      (downsample): Sequential(\n",
       "        (0): Conv2d(128, 256, kernel_size=(1, 1), stride=(2, 2), bias=False)\n",
       "        (1): BatchNorm2d(256, eps=1e-05, momentum=0.1, affine=True, track_running_stats=True)\n",
       "      )\n",
       "    )\n",
       "    (1): BasicBlock(\n",
       "      (conv1): Conv2d(256, 256, kernel_size=(3, 3), stride=(1, 1), padding=(1, 1), bias=False)\n",
       "      (bn1): BatchNorm2d(256, eps=1e-05, momentum=0.1, affine=True, track_running_stats=True)\n",
       "      (relu): ReLU(inplace=True)\n",
       "      (conv2): Conv2d(256, 256, kernel_size=(3, 3), stride=(1, 1), padding=(1, 1), bias=False)\n",
       "      (bn2): BatchNorm2d(256, eps=1e-05, momentum=0.1, affine=True, track_running_stats=True)\n",
       "    )\n",
       "  )\n",
       "  (layer4): Sequential(\n",
       "    (0): BasicBlock(\n",
       "      (conv1): Conv2d(256, 512, kernel_size=(3, 3), stride=(2, 2), padding=(1, 1), bias=False)\n",
       "      (bn1): BatchNorm2d(512, eps=1e-05, momentum=0.1, affine=True, track_running_stats=True)\n",
       "      (relu): ReLU(inplace=True)\n",
       "      (conv2): Conv2d(512, 512, kernel_size=(3, 3), stride=(1, 1), padding=(1, 1), bias=False)\n",
       "      (bn2): BatchNorm2d(512, eps=1e-05, momentum=0.1, affine=True, track_running_stats=True)\n",
       "      (downsample): Sequential(\n",
       "        (0): Conv2d(256, 512, kernel_size=(1, 1), stride=(2, 2), bias=False)\n",
       "        (1): BatchNorm2d(512, eps=1e-05, momentum=0.1, affine=True, track_running_stats=True)\n",
       "      )\n",
       "    )\n",
       "    (1): BasicBlock(\n",
       "      (conv1): Conv2d(512, 512, kernel_size=(3, 3), stride=(1, 1), padding=(1, 1), bias=False)\n",
       "      (bn1): BatchNorm2d(512, eps=1e-05, momentum=0.1, affine=True, track_running_stats=True)\n",
       "      (relu): ReLU(inplace=True)\n",
       "      (conv2): Conv2d(512, 512, kernel_size=(3, 3), stride=(1, 1), padding=(1, 1), bias=False)\n",
       "      (bn2): BatchNorm2d(512, eps=1e-05, momentum=0.1, affine=True, track_running_stats=True)\n",
       "    )\n",
       "  )\n",
       "  (avgpool): AdaptiveAvgPool2d(output_size=(1, 1))\n",
       "  (fc): Linear(in_features=512, out_features=10, bias=True)\n",
       ")"
      ]
     },
     "execution_count": 18,
     "metadata": {},
     "output_type": "execute_result"
    }
   ],
   "source": [
    "model.to(device)"
   ]
  },
  {
   "cell_type": "markdown",
   "id": "5f7c10f3",
   "metadata": {},
   "source": [
    "Оптимизатор и функция потерь"
   ]
  },
  {
   "cell_type": "code",
   "execution_count": 19,
   "id": "83ff8aed",
   "metadata": {},
   "outputs": [],
   "source": [
    "optimizer = optim.Adam(model.parameters(), lr=0.001)\n",
    "criterion = nn.CrossEntropyLoss()"
   ]
  },
  {
   "cell_type": "markdown",
   "id": "0c31fd51",
   "metadata": {},
   "source": [
    "Функция для обучения модели"
   ]
  },
  {
   "cell_type": "code",
   "execution_count": 20,
   "id": "687cb737",
   "metadata": {},
   "outputs": [],
   "source": [
    "def train_model(model, criterion, optimizer, num_epochs=5):\n",
    "    for epoch in range(num_epochs):\n",
    "        model.train()\n",
    "        running_loss = 0.0\n",
    "        for inputs, labels in train_loader:\n",
    "            inputs, labels = inputs.to(device), labels.to(device)\n",
    "            optimizer.zero_grad()\n",
    "            outputs = model(inputs)\n",
    "            loss = criterion(outputs, labels)\n",
    "            loss.backward()\n",
    "            optimizer.step()\n",
    "            running_loss += loss.item() * inputs.size(0)\n",
    "        epoch_loss = running_loss / len(train_loader.dataset)\n",
    "        print(f\"Epoch {epoch+1}/{num_epochs}, Loss: {epoch_loss:.4f}\")"
   ]
  },
  {
   "cell_type": "markdown",
   "id": "348ecb1d",
   "metadata": {},
   "source": [
    "Обучение модели"
   ]
  },
  {
   "cell_type": "code",
   "execution_count": 21,
   "id": "877f510c",
   "metadata": {},
   "outputs": [
    {
     "name": "stdout",
     "output_type": "stream",
     "text": [
      "Epoch 1/5, Loss: 1.6547\n",
      "Epoch 2/5, Loss: 1.3662\n",
      "Epoch 3/5, Loss: 1.1915\n",
      "Epoch 4/5, Loss: 1.0010\n",
      "Epoch 5/5, Loss: 0.8389\n"
     ]
    }
   ],
   "source": [
    "train_model(model, criterion, optimizer)"
   ]
  },
  {
   "cell_type": "markdown",
   "id": "261ec747",
   "metadata": {},
   "source": [
    "Функция для тестирования модели"
   ]
  },
  {
   "cell_type": "code",
   "execution_count": 22,
   "id": "b9bc642b",
   "metadata": {},
   "outputs": [],
   "source": [
    "def test_model(model):\n",
    "    model.eval()\n",
    "    all_preds = []\n",
    "    all_labels = []\n",
    "    with torch.no_grad():\n",
    "        for inputs, labels in test_loader:\n",
    "            inputs, labels = inputs.to(device), labels.to(device)\n",
    "            outputs = model(inputs)\n",
    "            _, preds = torch.max(outputs, 1)\n",
    "            all_preds.extend(preds.cpu().numpy())\n",
    "            all_labels.extend(labels.cpu().numpy())\n",
    "    return np.array(all_preds), np.array(all_labels)"
   ]
  },
  {
   "cell_type": "markdown",
   "id": "7d2ccdf4",
   "metadata": {},
   "source": [
    "Тестирование модели и вычисление метрик"
   ]
  },
  {
   "cell_type": "code",
   "execution_count": 23,
   "id": "fc81918c",
   "metadata": {},
   "outputs": [
    {
     "name": "stdout",
     "output_type": "stream",
     "text": [
      "F1 Score: 0.4993\n"
     ]
    }
   ],
   "source": [
    "preds, labels = test_model(model)\n",
    "f1 = f1_score(labels, preds, average='weighted')\n",
    "print(f\"F1 Score: {f1:.4f}\")"
   ]
  },
  {
   "cell_type": "markdown",
   "id": "13061d1a",
   "metadata": {},
   "source": [
    "Вычисление матрицы ошибок"
   ]
  },
  {
   "cell_type": "code",
   "execution_count": 24,
   "id": "ea95b53c",
   "metadata": {},
   "outputs": [],
   "source": [
    "conf_matrix = confusion_matrix(labels, preds)"
   ]
  },
  {
   "cell_type": "markdown",
   "id": "b2a132d9",
   "metadata": {},
   "source": [
    "Вывод матрицы ошибок в виде графика"
   ]
  },
  {
   "cell_type": "code",
   "execution_count": 25,
   "id": "11fe93d0",
   "metadata": {},
   "outputs": [
    {
     "data": {
      "image/png": "[encoded data removed]",
      "text/plain": [
       "<Figure size 1000x800 with 2 Axes>"
      ]
     },
     "metadata": {},
     "output_type": "display_data"
    }
   ],
   "source": [
    "plt.figure(figsize=(10, 8))\n",
    "sns.heatmap(conf_matrix, annot=True, fmt=\"d\", cmap=\"Blues\", xticklabels=dataset.classes, yticklabels=dataset.classes)\n",
    "plt.xlabel('Predicted labels')\n",
    "plt.ylabel('True labels')\n",
    "plt.title('Confusion Matrix')\n",
    "plt.show()"
   ]
  },
  {
   "cell_type": "markdown",
   "id": "e3dcc0f9",
   "metadata": {},
   "source": [
    "### Вывод по baseline модели"
   ]
  },
  {
   "cell_type": "markdown",
   "id": "d705dc3e",
   "metadata": {},
   "source": [
    "* Высокая точность некоторых классов: Например, жанр \"anime\" и \"country\" имеют высокое количество правильных предсказаний (215 и 212 соответственно), что указывает на то, что модель хорошо справляется с распознаванием этих конкретных жанров.\n",
    "* Проблемы с различимостью: Множество ошибок происходит из-за путаницы между жанрами \"classical\" и \"country\", \"jazz\" и \"pop\", а также \"pop\" и \"anime\". Это может указывать на недостаточное различие между этими классами в данных или на необходимость улучшения признаков для различения жанров.\n",
    "* Общая оценка: В целом, модель кажется достаточно точной для некоторых жанров и менее точной для других. Для улучшения общей производительности модели потребуется дополнительная настройка параметров, возможно использование более сложных моделей или методов ансамблирования, а также возможно, улучшение качества и количества тренировочных данных для тех жанров, где точность низкая."
   ]
  },
  {
   "cell_type": "markdown",
   "id": "a1a9b7bd",
   "metadata": {},
   "source": [
    "### Нейросеть"
   ]
  },
  {
   "cell_type": "markdown",
   "id": "7a15234c",
   "metadata": {},
   "source": [
    "Создание загрузчика данных изображений"
   ]
  },
  {
   "cell_type": "code",
   "execution_count": 26,
   "id": "13cbd2ed",
   "metadata": {},
   "outputs": [],
   "source": [
    "path = r'C:\\Users\\Joktun\\Desktop\\kaggle\\oblozhka'\n",
    "dls = ImageDataLoaders.from_folder(path, valid_pct=0.2, seed=42)"
   ]
  },
  {
   "cell_type": "markdown",
   "id": "803dfc5e",
   "metadata": {},
   "source": [
    "Создание и настройка учебника (модели обучения)"
   ]
  },
  {
   "cell_type": "code",
   "execution_count": 27,
   "id": "c19da284",
   "metadata": {},
   "outputs": [],
   "source": [
    "learn = vision_learner(dls, resnet34, metrics=accuracy, cbs=EarlyStoppingCallback(patience=3))"
   ]
  },
  {
   "cell_type": "markdown",
   "id": "98e4c226",
   "metadata": {},
   "source": [
    "Дообучение модели"
   ]
  },
  {
   "cell_type": "code",
   "execution_count": 28,
   "id": "733f77ab",
   "metadata": {},
   "outputs": [
    {
     "data": {
      "text/html": [
       "\n",
       "<style>\n",
       "    /* Turns off some styling */\n",
       "    progress {\n",
       "        /* gets rid of default border in Firefox and Opera. */\n",
       "        border: none;\n",
       "        /* Needs to be in here for Safari polyfill so background images work as expected. */\n",
       "        background-size: auto;\n",
       "    }\n",
       "    progress:not([value]), progress:not([value])::-webkit-progress-bar {\n",
       "        background: repeating-linear-gradient(45deg, #7e7e7e, #7e7e7e 10px, #5c5c5c 10px, #5c5c5c 20px);\n",
       "    }\n",
       "    .progress-bar-interrupted, .progress-bar-interrupted::-webkit-progress-bar {\n",
       "        background: #F44336;\n",
       "    }\n",
       "</style>\n"
      ],
      "text/plain": [
       "<IPython.core.display.HTML object>"
      ]
     },
     "metadata": {},
     "output_type": "display_data"
    },
    {
     "data": {
      "text/html": [
       "<table border=\"1\" class=\"dataframe\">\n",
       "  <thead>\n",
       "    <tr style=\"text-align: left;\">\n",
       "      <th>epoch</th>\n",
       "      <th>train_loss</th>\n",
       "      <th>valid_loss</th>\n",
       "      <th>accuracy</th>\n",
       "      <th>time</th>\n",
       "    </tr>\n",
       "  </thead>\n",
       "  <tbody>\n",
       "    <tr>\n",
       "      <td>0</td>\n",
       "      <td>2.126131</td>\n",
       "      <td>1.445330</td>\n",
       "      <td>0.554487</td>\n",
       "      <td>15:43</td>\n",
       "    </tr>\n",
       "  </tbody>\n",
       "</table>"
      ],
      "text/plain": [
       "<IPython.core.display.HTML object>"
      ]
     },
     "metadata": {},
     "output_type": "display_data"
    },
    {
     "data": {
      "text/html": [
       "\n",
       "<style>\n",
       "    /* Turns off some styling */\n",
       "    progress {\n",
       "        /* gets rid of default border in Firefox and Opera. */\n",
       "        border: none;\n",
       "        /* Needs to be in here for Safari polyfill so background images work as expected. */\n",
       "        background-size: auto;\n",
       "    }\n",
       "    progress:not([value]), progress:not([value])::-webkit-progress-bar {\n",
       "        background: repeating-linear-gradient(45deg, #7e7e7e, #7e7e7e 10px, #5c5c5c 10px, #5c5c5c 20px);\n",
       "    }\n",
       "    .progress-bar-interrupted, .progress-bar-interrupted::-webkit-progress-bar {\n",
       "        background: #F44336;\n",
       "    }\n",
       "</style>\n"
      ],
      "text/plain": [
       "<IPython.core.display.HTML object>"
      ]
     },
     "metadata": {},
     "output_type": "display_data"
    },
    {
     "data": {
      "text/html": [
       "<table border=\"1\" class=\"dataframe\">\n",
       "  <thead>\n",
       "    <tr style=\"text-align: left;\">\n",
       "      <th>epoch</th>\n",
       "      <th>train_loss</th>\n",
       "      <th>valid_loss</th>\n",
       "      <th>accuracy</th>\n",
       "      <th>time</th>\n",
       "    </tr>\n",
       "  </thead>\n",
       "  <tbody>\n",
       "    <tr>\n",
       "      <td>0</td>\n",
       "      <td>1.323709</td>\n",
       "      <td>1.184153</td>\n",
       "      <td>0.626923</td>\n",
       "      <td>21:35</td>\n",
       "    </tr>\n",
       "    <tr>\n",
       "      <td>1</td>\n",
       "      <td>0.943783</td>\n",
       "      <td>1.163137</td>\n",
       "      <td>0.638462</td>\n",
       "      <td>21:36</td>\n",
       "    </tr>\n",
       "    <tr>\n",
       "      <td>2</td>\n",
       "      <td>0.454544</td>\n",
       "      <td>1.133617</td>\n",
       "      <td>0.659615</td>\n",
       "      <td>21:33</td>\n",
       "    </tr>\n",
       "    <tr>\n",
       "      <td>3</td>\n",
       "      <td>0.170026</td>\n",
       "      <td>1.171516</td>\n",
       "      <td>0.666026</td>\n",
       "      <td>21:32</td>\n",
       "    </tr>\n",
       "    <tr>\n",
       "      <td>4</td>\n",
       "      <td>0.078238</td>\n",
       "      <td>1.185043</td>\n",
       "      <td>0.662179</td>\n",
       "      <td>21:36</td>\n",
       "    </tr>\n",
       "  </tbody>\n",
       "</table>"
      ],
      "text/plain": [
       "<IPython.core.display.HTML object>"
      ]
     },
     "metadata": {},
     "output_type": "display_data"
    }
   ],
   "source": [
    "learn.fine_tune(5)"
   ]
  },
  {
   "cell_type": "markdown",
   "id": "98011d9e",
   "metadata": {},
   "source": [
    "Вывод матрицы ошибок в виде графика"
   ]
  },
  {
   "cell_type": "code",
   "execution_count": 29,
   "id": "60734c91",
   "metadata": {},
   "outputs": [
    {
     "data": {
      "text/html": [
       "\n",
       "<style>\n",
       "    /* Turns off some styling */\n",
       "    progress {\n",
       "        /* gets rid of default border in Firefox and Opera. */\n",
       "        border: none;\n",
       "        /* Needs to be in here for Safari polyfill so background images work as expected. */\n",
       "        background-size: auto;\n",
       "    }\n",
       "    progress:not([value]), progress:not([value])::-webkit-progress-bar {\n",
       "        background: repeating-linear-gradient(45deg, #7e7e7e, #7e7e7e 10px, #5c5c5c 10px, #5c5c5c 20px);\n",
       "    }\n",
       "    .progress-bar-interrupted, .progress-bar-interrupted::-webkit-progress-bar {\n",
       "        background: #F44336;\n",
       "    }\n",
       "</style>\n"
      ],
      "text/plain": [
       "<IPython.core.display.HTML object>"
      ]
     },
     "metadata": {},
     "output_type": "display_data"
    },
    {
     "data": {
      "text/html": [],
      "text/plain": [
       "<IPython.core.display.HTML object>"
      ]
     },
     "metadata": {},
     "output_type": "display_data"
    },
    {
     "data": {
      "text/html": [
       "\n",
       "<style>\n",
       "    /* Turns off some styling */\n",
       "    progress {\n",
       "        /* gets rid of default border in Firefox and Opera. */\n",
       "        border: none;\n",
       "        /* Needs to be in here for Safari polyfill so background images work as expected. */\n",
       "        background-size: auto;\n",
       "    }\n",
       "    progress:not([value]), progress:not([value])::-webkit-progress-bar {\n",
       "        background: repeating-linear-gradient(45deg, #7e7e7e, #7e7e7e 10px, #5c5c5c 10px, #5c5c5c 20px);\n",
       "    }\n",
       "    .progress-bar-interrupted, .progress-bar-interrupted::-webkit-progress-bar {\n",
       "        background: #F44336;\n",
       "    }\n",
       "</style>\n"
      ],
      "text/plain": [
       "<IPython.core.display.HTML object>"
      ]
     },
     "metadata": {},
     "output_type": "display_data"
    },
    {
     "data": {
      "text/html": [],
      "text/plain": [
       "<IPython.core.display.HTML object>"
      ]
     },
     "metadata": {},
     "output_type": "display_data"
    },
    {
     "data": {
      "image/png": "[encoded data removed]",
      "text/plain": [
       "<Figure size 640x480 with 1 Axes>"
      ]
     },
     "metadata": {},
     "output_type": "display_data"
    }
   ],
   "source": [
    "interp = ClassificationInterpretation.from_learner(learn)\n",
    "interp.plot_confusion_matrix()"
   ]
  },
  {
   "cell_type": "markdown",
   "id": "b9733614",
   "metadata": {},
   "source": [
    "### Вывод по нейросетевой модели"
   ]
  },
  {
   "cell_type": "markdown",
   "id": "792e3a23",
   "metadata": {},
   "source": [
    "* Высокая точность для некоторых жанров: Жанры, такие как \"anime\", \"country\" и \"classical\", имеют относительно высокий процент правильных предсказаний (197, 202 и 163 соответственно), что говорит о том, что модель достаточно хорошо справляется с их классификацией.\n",
    "* Путаница между жанрами: Существуют некоторые жанры, между которыми модель часто путается. Например, много ошибок между \"classical\" и \"jazz\" (31 раз модель предсказала \"jazz\", когда это был \"classical\"), а также между \"pop\" и \"country\" (25 раз модель предсказала \"country\", когда это был \"pop\"). Это может свидетельствовать о схожести характеристик этих жанров в используемом датасете или о необходимости уточнения признаков, используемых для их классификации.\n",
    "* Возможное улучшение модели: Для улучшения производительности модели может потребоваться рассмотреть более глубокую архитектуру сети, использование различных методов регуляризации, более тонкую настройку гиперпараметров или аугментацию данных для тех жанров, где точность модели невысока."
   ]
  },
  {
   "cell_type": "markdown",
   "id": "11a0c9a1",
   "metadata": {},
   "source": [
    "## Общий вывод"
   ]
  },
  {
   "cell_type": "markdown",
   "id": "ca3405d3",
   "metadata": {},
   "source": [
    "Мы можем наблюдать корреляцию между визуальным оформлением и музыкальным содержанием альбомов. Это может быть использовано для улучшения стратегий маркетинга и дизайна в музыкальной индустрии. Компании смогут более осознанно подходить к процессу оформления альбомов, учитывая влияние визуального стиля на восприятие аудитории. Также успешная модель может быть использована для создания рекомендательных систем, которые предлагают пользователю музыку на основе предпочтений в визуальном искусстве."
   ]
  }
 ],
 "metadata": {
  "kernelspec": {
   "display_name": "Python 3 (ipykernel)",
   "language": "python",
   "name": "python3"
  },
  "language_info": {
   "codemirror_mode": {
    "name": "ipython",
    "version": 3
   },
   "file_extension": ".py",
   "mimetype": "text/x-python",
   "name": "python",
   "nbconvert_exporter": "python",
   "pygments_lexer": "ipython3",
   "version": "3.11.5"
  }
 },
 "nbformat": 4,
 "nbformat_minor": 5
}
